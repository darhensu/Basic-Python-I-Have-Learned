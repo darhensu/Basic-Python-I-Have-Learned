{
 "cells": [
  {
   "cell_type": "markdown",
   "id": "5ce8fdce",
   "metadata": {},
   "source": [
    "Studi Kasus\n",
    "Tuan Fin memiliki sebuah pabrik yang memproduksi alat-alat tulis. Salah satu produk unggulan pada perusahaan Tuan Fin adalah penggaris plastic 30cm. Plastik merupakan material yang rentan terhadap suhu tinggi, sehingga dapat memuai pada suhu tertentu. Maka dari itu, untuk menjaga keakuratan produk unggulan tersebut, Tuan Fin menugaskan Head of Quality Assurance untuk melakukan Quality Checking berkala.\n",
    "Pada saat kuartal kedua, didapatkan data panjang 100 sampel penggaris. Tugas kalian adalah bantu Tuan Fin untuk menentukan apakah penggaris yang dihasilkan pada kuartal kedua masih dapat dikategorikan lulus Quality Checking (panjang penggaris masih di sekitar 30cm).\n",
    "\n",
    "1.\tTentukan H0 & H1 untuk studi kasus di atas\n",
    "2.\tTarik kesimpulan terhadap studi kasus di atas dengan menggunakan uji hipotesis. Gunakan nilai alpha 0.05. (Gunakan library scipy)"
   ]
  },
  {
   "cell_type": "code",
   "execution_count": 1,
   "id": "163f1920",
   "metadata": {},
   "outputs": [],
   "source": [
    "# Import library\n",
    "import pandas as pd\n",
    "from scipy import stats\n",
    "import numpy as np"
   ]
  },
  {
   "cell_type": "code",
   "execution_count": 2,
   "id": "f7d3a0ba",
   "metadata": {},
   "outputs": [],
   "source": [
    "# Import CSV dataset\n",
    "df = pd.read_csv('/Users/darhensu/Downloads/ruler_sample_size.csv') "
   ]
  },
  {
   "cell_type": "code",
   "execution_count": 3,
   "id": "e18c53b1",
   "metadata": {},
   "outputs": [
    {
     "data": {
      "text/html": [
       "<div>\n",
       "<style scoped>\n",
       "    .dataframe tbody tr th:only-of-type {\n",
       "        vertical-align: middle;\n",
       "    }\n",
       "\n",
       "    .dataframe tbody tr th {\n",
       "        vertical-align: top;\n",
       "    }\n",
       "\n",
       "    .dataframe thead th {\n",
       "        text-align: right;\n",
       "    }\n",
       "</style>\n",
       "<table border=\"1\" class=\"dataframe\">\n",
       "  <thead>\n",
       "    <tr style=\"text-align: right;\">\n",
       "      <th></th>\n",
       "      <th>Unnamed: 0</th>\n",
       "      <th>0</th>\n",
       "    </tr>\n",
       "  </thead>\n",
       "  <tbody>\n",
       "    <tr>\n",
       "      <th>0</th>\n",
       "      <td>0</td>\n",
       "      <td>29.996612</td>\n",
       "    </tr>\n",
       "    <tr>\n",
       "      <th>1</th>\n",
       "      <td>1</td>\n",
       "      <td>29.993937</td>\n",
       "    </tr>\n",
       "    <tr>\n",
       "      <th>2</th>\n",
       "      <td>2</td>\n",
       "      <td>30.008391</td>\n",
       "    </tr>\n",
       "    <tr>\n",
       "      <th>3</th>\n",
       "      <td>3</td>\n",
       "      <td>29.990813</td>\n",
       "    </tr>\n",
       "    <tr>\n",
       "      <th>4</th>\n",
       "      <td>4</td>\n",
       "      <td>29.994487</td>\n",
       "    </tr>\n",
       "  </tbody>\n",
       "</table>\n",
       "</div>"
      ],
      "text/plain": [
       "   Unnamed: 0          0\n",
       "0           0  29.996612\n",
       "1           1  29.993937\n",
       "2           2  30.008391\n",
       "3           3  29.990813\n",
       "4           4  29.994487"
      ]
     },
     "execution_count": 3,
     "metadata": {},
     "output_type": "execute_result"
    }
   ],
   "source": [
    "df.head()"
   ]
  },
  {
   "cell_type": "code",
   "execution_count": 4,
   "id": "8805bd5a",
   "metadata": {},
   "outputs": [
    {
     "name": "stdout",
     "output_type": "stream",
     "text": [
      "Number of columns: 2\n",
      "Number of rows: 100\n"
     ]
    }
   ],
   "source": [
    "# Get the number of columns and rows\n",
    "num_columns = df.shape[1]\n",
    "num_rows = df.shape[0]\n",
    "\n",
    "# Print the results\n",
    "print(f\"Number of columns: {num_columns}\")\n",
    "print(f\"Number of rows: {num_rows}\")"
   ]
  },
  {
   "cell_type": "code",
   "execution_count": 5,
   "id": "4cbbc32b",
   "metadata": {},
   "outputs": [
    {
     "data": {
      "text/plain": [
       "Index(['Unnamed: 0', '0'], dtype='object')"
      ]
     },
     "execution_count": 5,
     "metadata": {},
     "output_type": "execute_result"
    }
   ],
   "source": [
    "df.columns"
   ]
  },
  {
   "cell_type": "code",
   "execution_count": 6,
   "id": "857d7759",
   "metadata": {},
   "outputs": [],
   "source": [
    "new_column_names = {'Unnamed: 0': 'Number', '0': 'Panjang_Penggaris'}\n",
    "df = df.rename(columns=new_column_names)"
   ]
  },
  {
   "cell_type": "code",
   "execution_count": 7,
   "id": "d6de8346",
   "metadata": {},
   "outputs": [],
   "source": [
    "# Write the updated DataFrame back to a CSV file\n",
    "df.to_csv('updated_file.csv', index=False)"
   ]
  },
  {
   "cell_type": "code",
   "execution_count": 8,
   "id": "487db202",
   "metadata": {},
   "outputs": [
    {
     "data": {
      "text/html": [
       "<div>\n",
       "<style scoped>\n",
       "    .dataframe tbody tr th:only-of-type {\n",
       "        vertical-align: middle;\n",
       "    }\n",
       "\n",
       "    .dataframe tbody tr th {\n",
       "        vertical-align: top;\n",
       "    }\n",
       "\n",
       "    .dataframe thead th {\n",
       "        text-align: right;\n",
       "    }\n",
       "</style>\n",
       "<table border=\"1\" class=\"dataframe\">\n",
       "  <thead>\n",
       "    <tr style=\"text-align: right;\">\n",
       "      <th></th>\n",
       "      <th>Number</th>\n",
       "      <th>Panjang_Penggaris</th>\n",
       "    </tr>\n",
       "  </thead>\n",
       "  <tbody>\n",
       "    <tr>\n",
       "      <th>0</th>\n",
       "      <td>0</td>\n",
       "      <td>29.996612</td>\n",
       "    </tr>\n",
       "    <tr>\n",
       "      <th>1</th>\n",
       "      <td>1</td>\n",
       "      <td>29.993937</td>\n",
       "    </tr>\n",
       "    <tr>\n",
       "      <th>2</th>\n",
       "      <td>2</td>\n",
       "      <td>30.008391</td>\n",
       "    </tr>\n",
       "    <tr>\n",
       "      <th>3</th>\n",
       "      <td>3</td>\n",
       "      <td>29.990813</td>\n",
       "    </tr>\n",
       "    <tr>\n",
       "      <th>4</th>\n",
       "      <td>4</td>\n",
       "      <td>29.994487</td>\n",
       "    </tr>\n",
       "  </tbody>\n",
       "</table>\n",
       "</div>"
      ],
      "text/plain": [
       "   Number  Panjang_Penggaris\n",
       "0       0          29.996612\n",
       "1       1          29.993937\n",
       "2       2          30.008391\n",
       "3       3          29.990813\n",
       "4       4          29.994487"
      ]
     },
     "execution_count": 8,
     "metadata": {},
     "output_type": "execute_result"
    }
   ],
   "source": [
    "df.head()"
   ]
  },
  {
   "cell_type": "code",
   "execution_count": 9,
   "id": "74337b32",
   "metadata": {},
   "outputs": [],
   "source": [
    "# Take the column with nominal as a sample data\n",
    "sample_data = df['Panjang_Penggaris']"
   ]
  },
  {
   "cell_type": "markdown",
   "id": "1dc3016a",
   "metadata": {},
   "source": [
    "H0 (Hipotesis Nol): Rata-rata panjang penggaris pada kuartal kedua sama dengan 30cm.\n",
    "H1 (Hipotesis Alternatif): Rata-rata panjang penggaris pada kuartal kedua tidak sama dengan 30cm."
   ]
  },
  {
   "cell_type": "code",
   "execution_count": 10,
   "id": "9efbef70",
   "metadata": {},
   "outputs": [],
   "source": [
    "# Asumption value on H0\n",
    "pop_mean = 30.0"
   ]
  },
  {
   "cell_type": "code",
   "execution_count": 11,
   "id": "86921e3e",
   "metadata": {},
   "outputs": [
    {
     "data": {
      "text/plain": [
       "29.999149462401828"
      ]
     },
     "execution_count": 11,
     "metadata": {},
     "output_type": "execute_result"
    }
   ],
   "source": [
    "# Mean\n",
    "sample_mean = sample_data.mean()\n",
    "sample_mean"
   ]
  },
  {
   "cell_type": "code",
   "execution_count": 12,
   "id": "ec9505ea",
   "metadata": {},
   "outputs": [
    {
     "data": {
      "text/plain": [
       "0.011084646019620103"
      ]
     },
     "execution_count": 12,
     "metadata": {},
     "output_type": "execute_result"
    }
   ],
   "source": [
    "# Standard dev\n",
    "sample_std = sample_data.std(ddof=1)\n",
    "sample_std"
   ]
  },
  {
   "cell_type": "code",
   "execution_count": 13,
   "id": "5c3d38e5",
   "metadata": {},
   "outputs": [
    {
     "data": {
      "text/plain": [
       "100"
      ]
     },
     "execution_count": 13,
     "metadata": {},
     "output_type": "execute_result"
    }
   ],
   "source": [
    "# Total sample\n",
    "n = len(sample_data)\n",
    "n"
   ]
  },
  {
   "cell_type": "code",
   "execution_count": 14,
   "id": "90c487cc",
   "metadata": {},
   "outputs": [
    {
     "data": {
      "text/plain": [
       "-0.7673114654870562"
      ]
     },
     "execution_count": 14,
     "metadata": {},
     "output_type": "execute_result"
    }
   ],
   "source": [
    "# t-score\n",
    "t_score = (sample_mean - pop_mean) / (sample_std / np.sqrt(n))\n",
    "t_score"
   ]
  },
  {
   "cell_type": "code",
   "execution_count": 15,
   "id": "15af0ca5",
   "metadata": {},
   "outputs": [
    {
     "data": {
      "text/plain": [
       "0.44472247761099926"
      ]
     },
     "execution_count": 15,
     "metadata": {},
     "output_type": "execute_result"
    }
   ],
   "source": [
    "# p-value\n",
    "p_value = 2 * (1 - stats.t.cdf(abs(t_score), df=n-1))\n",
    "p_value"
   ]
  },
  {
   "cell_type": "code",
   "execution_count": 16,
   "id": "7e010120",
   "metadata": {},
   "outputs": [],
   "source": [
    "# Tingkat signifikansi (alpha)\n",
    "alpha = 0.05"
   ]
  },
  {
   "cell_type": "code",
   "execution_count": 17,
   "id": "7153a7c7",
   "metadata": {},
   "outputs": [
    {
     "name": "stdout",
     "output_type": "stream",
     "text": [
      "Sample Mean: 29.9991\n",
      "t-Score: -0.7673\n",
      "p-Value: 0.4447\n"
     ]
    }
   ],
   "source": [
    "# Uji hypothesis results\n",
    "print(f\"Sample Mean: {sample_mean:.4f}\")\n",
    "print(f\"t-Score: {t_score:.4f}\")\n",
    "print(f\"p-Value: {p_value:.4f}\")"
   ]
  },
  {
   "cell_type": "code",
   "execution_count": 18,
   "id": "9a11f178",
   "metadata": {},
   "outputs": [
    {
     "name": "stdout",
     "output_type": "stream",
     "text": [
      "Result: Gagal tolak H0, penggaris lulus Quality Checking\n"
     ]
    }
   ],
   "source": [
    "if p_value < alpha:\n",
    "    print(\"Result: Tolak H0, penggaris tidak lulus Quality Checking\")\n",
    "else:\n",
    "    print(\"Result: Gagal tolak H0, penggaris lulus Quality Checking\")"
   ]
  },
  {
   "cell_type": "code",
   "execution_count": null,
   "id": "e62c230a",
   "metadata": {},
   "outputs": [],
   "source": []
  }
 ],
 "metadata": {
  "kernelspec": {
   "display_name": "Python 3 (ipykernel)",
   "language": "python",
   "name": "python3"
  },
  "language_info": {
   "codemirror_mode": {
    "name": "ipython",
    "version": 3
   },
   "file_extension": ".py",
   "mimetype": "text/x-python",
   "name": "python",
   "nbconvert_exporter": "python",
   "pygments_lexer": "ipython3",
   "version": "3.10.9"
  }
 },
 "nbformat": 4,
 "nbformat_minor": 5
}
